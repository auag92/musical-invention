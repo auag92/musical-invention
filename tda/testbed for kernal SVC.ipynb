{
 "cells": [
  {
   "cell_type": "code",
   "execution_count": 1,
   "metadata": {},
   "outputs": [],
   "source": [
    "import numpy as np\n",
    "from sklearn import svm\n",
    "from sklearn.svm import SVC\n",
    "from sklearn.utils import shuffle\n",
    "from sklearn import metrics\n",
    "from sklearn.datasets import load_digits\n",
    "from sklearn.metrics import zero_one_loss\n",
    "import matplotlib.pyplot as plt"
   ]
  },
  {
   "cell_type": "code",
   "execution_count": 2,
   "metadata": {},
   "outputs": [],
   "source": [
    "def draw_digit(x):\n",
    "    assert len(x) == 64\n",
    "    im = np.reshape(x, (8, 8))\n",
    "    plt.imshow(im)\n",
    "    plt.show()"
   ]
  },
  {
   "cell_type": "markdown",
   "metadata": {},
   "source": [
    "## Train a SVM classifier with linear kernel, to classify digit images from MNIST digits database"
   ]
  },
  {
   "cell_type": "code",
   "execution_count": 3,
   "metadata": {},
   "outputs": [
    {
     "name": "stdout",
     "output_type": "stream",
     "text": [
      "Following metrics are used to measure the performace of a classifier:\n",
      "\n",
      "Zero-One Loss: 0.0188205771644\n",
      "\n",
      "Classification report for classifier SVC(C=1.0, cache_size=200, class_weight=None, coef0=0.0,\n",
      "  decision_function_shape='ovr', degree=3, gamma='auto_deprecated',\n",
      "  kernel='precomputed', max_iter=-1, probability=False, random_state=None,\n",
      "  shrinking=True, tol=0.001, verbose=False):\n",
      "              precision    recall  f1-score   support\n",
      "\n",
      "           0       1.00      1.00      1.00        86\n",
      "           1       0.97      1.00      0.98        88\n",
      "           2       0.99      1.00      0.99        74\n",
      "           3       0.99      1.00      0.99        75\n",
      "           4       1.00      1.00      1.00        90\n",
      "           5       0.98      0.94      0.96        69\n",
      "           6       0.99      0.99      0.99        78\n",
      "           7       1.00      0.99      0.99        76\n",
      "           8       0.95      0.95      0.95        81\n",
      "           9       0.95      0.94      0.94        80\n",
      "\n",
      "   micro avg       0.98      0.98      0.98       797\n",
      "   macro avg       0.98      0.98      0.98       797\n",
      "weighted avg       0.98      0.98      0.98       797\n",
      "\n",
      "\n",
      "\n",
      "Confusion matrix:\n",
      "[[86  0  0  0  0  0  0  0  0  0]\n",
      " [ 0 88  0  0  0  0  0  0  0  0]\n",
      " [ 0  0 74  0  0  0  0  0  0  0]\n",
      " [ 0  0  0 75  0  0  0  0  0  0]\n",
      " [ 0  0  0  0 90  0  0  0  0  0]\n",
      " [ 0  0  0  0  0 65  1  0  0  3]\n",
      " [ 0  1  0  0  0  0 77  0  0  0]\n",
      " [ 0  0  0  0  0  0  0 75  1  0]\n",
      " [ 0  2  1  0  0  0  0  0 77  1]\n",
      " [ 0  0  0  1  0  1  0  0  3 75]]\n"
     ]
    }
   ],
   "source": [
    "digits = load_digits()\n",
    "X, y = shuffle(digits.data, digits.target)\n",
    "X_train, X_test = X[:1000, :], X[1000:, :]\n",
    "y_train, y_test = y[:1000], y[1000:]\n",
    "\n",
    "svc = SVC(kernel='precomputed')\n",
    "\n",
    "kernel_train = np.dot(X_train, X_train.T)  # linear kernel\n",
    "\n",
    "svc.fit(kernel_train, y_train)\n",
    "\n",
    "\n",
    "kernel_test = np.dot(X_test, X_train.T)\n",
    "y_val = svc.predict(kernel_test)\n",
    "\n",
    "\n",
    "print(\"Following metrics are used to measure the performace of a classifier:\\n\" )\n",
    "print(\"Zero-One Loss: %.13f\" % zero_one_loss(y_test, y_val))\n",
    "\n",
    "print()\n",
    "print(\"Classification report for classifier %s:\\n%s\\n\"\n",
    "      % (svc, metrics.classification_report(y_test, y_val)))\n",
    "\n",
    "print()\n",
    "print(\"Confusion matrix:\\n%s\" % metrics.confusion_matrix(y_test, y_val))"
   ]
  },
  {
   "cell_type": "markdown",
   "metadata": {},
   "source": [
    "### Visualize the data to see what exactly it is, that you are classifying."
   ]
  },
  {
   "cell_type": "code",
   "execution_count": 4,
   "metadata": {
    "scrolled": false
   },
   "outputs": [
    {
     "data": {
      "image/png": "[encoded data removed]",
      "text/plain": [
       "<Figure size 432x288 with 1 Axes>"
      ]
     },
     "metadata": {
      "needs_background": "light"
     },
     "output_type": "display_data"
    },
    {
     "data": {
      "image/png": "[encoded data removed]",
      "text/plain": [
       "<Figure size 432x288 with 1 Axes>"
      ]
     },
     "metadata": {
      "needs_background": "light"
     },
     "output_type": "display_data"
    },
    {
     "data": {
      "image/png": "[encoded data removed]",
      "text/plain": [
       "<Figure size 432x288 with 1 Axes>"
      ]
     },
     "metadata": {
      "needs_background": "light"
     },
     "output_type": "display_data"
    },
    {
     "data": {
      "image/png": "[encoded data removed]",
      "text/plain": [
       "<Figure size 432x288 with 1 Axes>"
      ]
     },
     "metadata": {
      "needs_background": "light"
     },
     "output_type": "display_data"
    },
    {
     "data": {
      "image/png": "[encoded data removed]",
      "text/plain": [
       "<Figure size 432x288 with 1 Axes>"
      ]
     },
     "metadata": {
      "needs_background": "light"
     },
     "output_type": "display_data"
    }
   ],
   "source": [
    "nsamples = 5\n",
    "np.random.seed(896234)\n",
    "indxs = np.random.randint(0, len(X_train), nsamples)\n",
    "for i in indxs:\n",
    "    draw_digit(X_train[i])"
   ]
  }
 ],
 "metadata": {
  "kernelspec": {
   "display_name": "Python 3",
   "language": "python",
   "name": "python3"
  },
  "language_info": {
   "codemirror_mode": {
    "name": "ipython",
    "version": 3
   },
   "file_extension": ".py",
   "mimetype": "text/x-python",
   "name": "python",
   "nbconvert_exporter": "python",
   "pygments_lexer": "ipython3",
   "version": "3.6.8"
  }
 },
 "nbformat": 4,
 "nbformat_minor": 2
}
